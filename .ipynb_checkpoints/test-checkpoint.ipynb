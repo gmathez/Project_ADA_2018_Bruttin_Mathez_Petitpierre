{
 "cells": [
  {
   "cell_type": "code",
   "execution_count": 12,
   "metadata": {},
   "outputs": [
    {
     "data": {
      "text/plain": [
       "[{'text': '(0, code                                                                     1281\\nproduct_name                                               Tarte noix de coco\\ncategories_tags                         en:pies,en:sweet-pies,en:coconut-pies\\nenergy_100g                                                              1594\\nfat_100g                                                                   22\\nsaturated-fat_100g                                                       15.5\\nsugars_100g                                                              21.9\\nsalt_100g                                                                 0.1\\nsodium_100g                                                         0.0393701\\nfruits-vegetables-nuts_100g                                               NaN\\nfruits-vegetables-nuts-estimate_100g                                    31.95\\nfiber_100g                                                                4.4\\nproteins_100g                                                             4.6\\nName: 0, dtype: object)'},\n",
       " {'text': '(1, code                                                                                 1885\\nproduct_name                                                             Compote de poire\\ncategories_tags                         en:plant-based-foods-and-beverages,en:plant-ba...\\nenergy_100g                                                                           657\\nfat_100g                                                                                0\\nsaturated-fat_100g                                                                      0\\nsugars_100g                                                                            27\\nsalt_100g                                                                               0\\nsodium_100g                                                                             0\\nfruits-vegetables-nuts_100g                                                           NaN\\nfruits-vegetables-nuts-estimate_100g                                                 99.9\\nfiber_100g                                                                            3.6\\nproteins_100g                                                                         0.6\\nName: 1, dtype: object)'},\n",
       " {'text': '(2, code                                                                                 5470\\nproduct_name                                                             BAguette bressan\\ncategories_tags                         en:plant-based-foods-and-beverages,en:plant-ba...\\nenergy_100g                                                                           669\\nfat_100g                                                                              2.2\\nsaturated-fat_100g                                                                    0.5\\nsugars_100g                                                                           0.6\\nsalt_100g                                                                           0.358\\nsodium_100g                                                                      0.140945\\nfruits-vegetables-nuts_100g                                                           NaN\\nfruits-vegetables-nuts-estimate_100g                                                    0\\nfiber_100g                                                                            1.6\\nproteins_100g                                                                         9.5\\nName: 2, dtype: object)'},\n",
       " {'text': '(3, code                                                                                 5661\\nproduct_name                                             Pavé de saumon fumé à la ficelle\\ncategories_tags                         en:seafood,en:fishes,en:salmons,en:smoked-fish...\\nenergy_100g                                                                          1059\\nfat_100g                                                                               17\\nsaturated-fat_100g                                                                    2.6\\nsugars_100g                                                                           0.5\\nsalt_100g                                                                             2.5\\nsodium_100g                                                                      0.984252\\nfruits-vegetables-nuts_100g                                                           NaN\\nfruits-vegetables-nuts-estimate_100g                                                    0\\nfiber_100g                                                                              0\\nproteins_100g                                                                          23\\nName: 3, dtype: object)'},\n",
       " {'text': '(4, code                                                     20114\\nproduct_name                               Naturablue original\\ncategories_tags                         en:dietary-supplements\\nenergy_100g                                                  0\\nfat_100g                                                     0\\nsaturated-fat_100g                                           0\\nsugars_100g                                                  0\\nsalt_100g                                                  0.3\\nsodium_100g                                            0.11811\\nfruits-vegetables-nuts_100g                                NaN\\nfruits-vegetables-nuts-estimate_100g                       4.1\\nfiber_100g                                                3.33\\nproteins_100g                                                0\\nName: 4, dtype: object)'},\n",
       " {'text': '(5, code                                                 125512\\nproduct_name                             Stylo glaçage gris\\ncategories_tags                         en:food-decorations\\nenergy_100g                                            2427\\nfat_100g                                                 38\\nsaturated-fat_100g                                       36\\nsugars_100g                                              58\\nsalt_100g                                               0.5\\nsodium_100g                                         0.19685\\nfruits-vegetables-nuts_100g                             NaN\\nfruits-vegetables-nuts-estimate_100g                   19.8\\nfiber_100g                                             0.15\\nproteins_100g                                             3\\nName: 5, dtype: object)'},\n",
       " {'text': '(6, code                                                                               274722\\nproduct_name                                            Blanquette de Volaille et son Riz\\ncategories_tags                         en:meals,en:meat-based-products,en:meals-with-...\\nenergy_100g                                                                           450\\nfat_100g                                                                              2.2\\nsaturated-fat_100g                                                                    0.9\\nsugars_100g                                                                           0.5\\nsalt_100g                                                                             0.7\\nsodium_100g                                                                      0.275591\\nfruits-vegetables-nuts_100g                                                           NaN\\nfruits-vegetables-nuts-estimate_100g                                                  7.2\\nfiber_100g                                                                            0.5\\nproteins_100g                                                                         6.8\\nName: 6, dtype: object)'},\n",
       " {'text': '(7, code                                                                     274739\\nproduct_name                            Raviolini au Fromage de chèvre et Pesto\\ncategories_tags                                     en:meals,en:microwave-meals\\nenergy_100g                                                                 455\\nfat_100g                                                                    4.2\\nsaturated-fat_100g                                                          2.1\\nsugars_100g                                                                 1.4\\nsalt_100g                                                                   0.6\\nsodium_100g                                                             0.23622\\nfruits-vegetables-nuts_100g                                                 NaN\\nfruits-vegetables-nuts-estimate_100g                                       20.2\\nfiber_100g                                                                  1.8\\nproteins_100g                                                               4.4\\nName: 7, dtype: object)'},\n",
       " {'text': '(8, code                                                                               290616\\nproduct_name                                                                 Salade Cesar\\ncategories_tags                         en:plant-based-foods-and-beverages,en:plant-ba...\\nenergy_100g                                                                          1210\\nfat_100g                                                                               12\\nsaturated-fat_100g                                                                      7\\nsugars_100g                                                                             0\\nsalt_100g                                                                            2.16\\nsodium_100g                                                                          0.85\\nfruits-vegetables-nuts_100g                                                           NaN\\nfruits-vegetables-nuts-estimate_100g                                                  100\\nfiber_100g                                                                              2\\nproteins_100g                                                                          22\\nName: 8, dtype: object)'},\n",
       " {'text': '(9, code                                                                               394710\\nproduct_name                                               Danoises à la cannelle roulées\\ncategories_tags                         en:sugary-snacks,en:biscuits-and-cakes,en:past...\\nenergy_100g                                                                          1520\\nfat_100g                                                                             14.4\\nsaturated-fat_100g                                                                      9\\nsugars_100g                                                                          28.1\\nsalt_100g                                                                           0.922\\nsodium_100g                                                                         0.363\\nfruits-vegetables-nuts_100g                                                           NaN\\nfruits-vegetables-nuts-estimate_100g                                                 26.5\\nfiber_100g                                                                           2.05\\nproteins_100g                                                                        4.79\\nName: 9, dtype: object)'}]"
      ]
     },
     "execution_count": 12,
     "metadata": {},
     "output_type": "execute_result"
    }
   ],
   "source": [
    "import pandas\n",
    "\n",
    "df = pandas.read_csv(\"./data/Sample_data_food.csv\")\n",
    "data = [{'text': str(row[1])} for row in df.iterrows()]\n",
    "data"
   ]
  },
  {
   "cell_type": "code",
   "execution_count": null,
   "metadata": {},
   "outputs": [],
   "source": []
  }
 ],
 "metadata": {
  "kernelspec": {
   "display_name": "Python [conda env:ada]",
   "language": "python",
   "name": "conda-env-ada-py"
  },
  "language_info": {
   "codemirror_mode": {
    "name": "ipython",
    "version": 3
   },
   "file_extension": ".py",
   "mimetype": "text/x-python",
   "name": "python",
   "nbconvert_exporter": "python",
   "pygments_lexer": "ipython3",
   "version": "3.5.6"
  }
 },
 "nbformat": 4,
 "nbformat_minor": 2
}
