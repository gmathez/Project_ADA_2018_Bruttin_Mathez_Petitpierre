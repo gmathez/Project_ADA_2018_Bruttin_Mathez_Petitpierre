{
 "cells": [
  {
   "cell_type": "code",
   "execution_count": 2,
   "metadata": {},
   "outputs": [],
   "source": [
    "import pandas as pd\n",
    "from urllib.request import urlopen\n",
    "import urllib.request\n",
    "import json\n",
    "\n",
    "DATA_FOLDER = './data/'"
   ]
  },
  {
   "cell_type": "code",
   "execution_count": 3,
   "metadata": {},
   "outputs": [
    {
     "name": "stderr",
     "output_type": "stream",
     "text": [
      "/anaconda3/lib/python3.6/site-packages/IPython/core/interactiveshell.py:2785: DtypeWarning: Columns (0,3,5,24,25,26,28,36,41,49) have mixed types. Specify dtype option on import or set low_memory=False.\n",
      "  interactivity=interactivity, compiler=compiler, result=result)\n"
     ]
    }
   ],
   "source": [
    "Data_raw = pd.read_csv(DATA_FOLDER + 'en.openfoodfacts.org.products.csv',delimiter = '\\t')"
   ]
  },
  {
   "cell_type": "code",
   "execution_count": 3,
   "metadata": {},
   "outputs": [],
   "source": [
    "error_ = { \"errors\": { \"error\": [{\n",
    "                \"status\": 400,\n",
    "                \"parameter\": \"results\",\n",
    "                \"message\": \"Your search resulted in zero results.Change your parameters and try again\" }]}}\n",
    "\n",
    "def catch_nutriment_value(nutri_dict, id_):\n",
    "    ''' Catch the value of a nutriment defined by its id_ '''\n",
    "    value = 0\n",
    "    for i in range(len(nutri_dict)):\n",
    "        if int(nutri_dict[i]['nutrient_id']) == id_:\n",
    "            value = float(nutri_dict[i]['value'])\n",
    "                        \n",
    "    return value\n",
    "\n",
    "def catch_fruit_or_veg(raw_aliment):\n",
    "    ''' Return 1 if the element is a fruit or a vegetable '''\n",
    "    \n",
    "    fruit_or_veg = 0\n",
    "    group = raw_aliment['group']\n",
    "    if group == 'Fruits and Fruit Juices': fruit_or_veg = 1\n",
    "    elif group == 'Vegetables and Vegetable Products' :  fruit_or_veg = 1\n",
    "    elif group == 'Legumes and Legume Products' : fruit_or_veg = 1\n",
    "    \n",
    "    return fruit_or_veg\n",
    "\n",
    "def find_raw_aliment(search_dict):\n",
    "    ''' Sometimes, the raw aliment is not the first to appear in search result, this function is there \n",
    "    to ensure that the '''\n",
    "    \n",
    "    score_list = []\n",
    "    aliment_list = search_dict['list']['item']\n",
    "    bonus_list = ['Fruits and Fruit Juices','Vegetables and Vegetable Products','Legumes and Legume Products']\n",
    "    best_score = 0\n",
    "    \n",
    "    for i in range(len(aliment_list)):\n",
    "        score = 0\n",
    "        if ('raw' in aliment_list[i]['name']) or ('unprepared' in aliment_list[i]['name']) : score += 1\n",
    "        if (aliment_list[i]['group'] in bonus_list) : score += 1\n",
    "        score_list.append(score)\n",
    "    \n",
    "    for i in range(len(aliment_list)):\n",
    "        # NB the entries are also classified by relevance in the database, so that the upper entries\n",
    "        # are more likely to be relevant\n",
    "        if score_list[i] == max(score_list) : return aliment_list[i]\n",
    "\n",
    "def scrap(query_, ds_='Standard%20Reference', type_ = 'b'):\n",
    "    ''' Scrap nutriment values from US Agriculture department database '''\n",
    "    \n",
    "    # Allow to handle spaces in query without any problem to establish url\n",
    "    query_ = query_.replace(' ', '%20')\n",
    "    \n",
    "    api_key_ = 'HOEmuSjOUY4TSTXC4DM3I9CeOXOtypKAfpqi8Fuv' # Official API key for access to US gov database\n",
    "    format1_ = 'json' # Output format\n",
    "    sort_ = 'r' # Sort by relevance\n",
    "    max_ = '20' # Number of search result(s)\n",
    "    offset_ = '0' # Beginning row in the result\n",
    "    \n",
    "    url_search = 'https://api.nal.usda.gov/ndb/search/' + '?format=' + format1_ + '&q=' + query_ + \\\n",
    "                '&max=' + max_ + '&sort=' + sort_ + '&offset=' + offset_ + '&ds=' + ds_ + '&api_key=' + api_key_ \n",
    "    print(url_search)\n",
    "    \n",
    "    f_search = urlopen(url_search)\n",
    "    assert f_search.code == 200\n",
    "    search_dict = json.loads(f_search.read())\n",
    "    \n",
    "    # Error handling\n",
    "    if search_dict == error_:\n",
    "        ds2_='Branded%20Food%20Products'\n",
    "        url_search = 'https://api.nal.usda.gov/ndb/search/' + '?format=' + format1_ + '&q=' + query_ + \\\n",
    "                '&max=' + max_ + '&sort=' + sort_ + '&offset=' + offset_ + '&ds=' + ds2_ + '&api_key=' + api_key_ \n",
    "        print(url_search)\n",
    "        \n",
    "        f_search = urlopen(url_search)\n",
    "        assert f_search.code == 200\n",
    "        search_dict = json.loads(f_search.read())\n",
    "        \n",
    "        if search_dict == error_:\n",
    "            return {'Name' : 0,'kJ': 0,'Proteins' : 0,'Sugars' : 0,'Sat_fats' : 0,'Fibers' : 0,\n",
    "                    'Sodium':0,'Lipids' :0,'Fruit_Veg_content' : 0}\n",
    "    \n",
    "    \n",
    "    f_search = urlopen(url_search)\n",
    "    assert f_search.code == 200\n",
    "    search_dict = json.loads(f_search.read())\n",
    "        \n",
    "    \n",
    "    raw_aliment = find_raw_aliment(search_dict)\n",
    "    \n",
    "    ndbno_ = raw_aliment['ndbno'] # Identification number in the database\n",
    "    \n",
    "    url_food_report = 'https://api.nal.usda.gov/ndb/reports/' + '?ndbno=' + ndbno_ + '&type=' + type_ + \\\n",
    "                                                                '&format=' + format1_ + '&api_key=' + api_key_ \n",
    "    print(url_food_report)\n",
    "    f_food_report = urlopen(url_food_report)\n",
    "    assert f_food_report.code == 200\n",
    "    \n",
    "    food_report_dict = json.loads(f_food_report.read())\n",
    "    \n",
    "    nutri_dict = food_report_dict['report']['food']['nutrients']\n",
    "    \n",
    "    kcal_to_kJ = 4.184\n",
    "\n",
    "    nutri_values = {\n",
    "        'Name' : raw_aliment['name'],\n",
    "        'kJ': catch_nutriment_value(nutri_dict, 208) * kcal_to_kJ,\n",
    "        'Proteins' : catch_nutriment_value(nutri_dict, 203),\n",
    "        'Sugars' : catch_nutriment_value(nutri_dict, 269),\n",
    "        'Sat_fats' : catch_nutriment_value(nutri_dict, 606),\n",
    "        'Fibers' : catch_nutriment_value(nutri_dict, 291),\n",
    "        'Sodium' : catch_nutriment_value(nutri_dict, 307),\n",
    "        'Lipids' : catch_nutriment_value(nutri_dict, 204),\n",
    "        'Fruit_Veg_content' : catch_fruit_or_veg(raw_aliment)\n",
    "    }\n",
    "    \n",
    "    return nutri_values   "
   ]
  },
  {
   "cell_type": "code",
   "execution_count": 6,
   "metadata": {},
   "outputs": [
    {
     "name": "stdout",
     "output_type": "stream",
     "text": [
      "https://api.nal.usda.gov/ndb/search/?format=json&q=lentils&max=20&sort=r&offset=0&ds=Standard%20Reference&api_key=HOEmuSjOUY4TSTXC4DM3I9CeOXOtypKAfpqi8Fuv\n",
      "https://api.nal.usda.gov/ndb/reports/?ndbno=16069&type=b&format=json&api_key=HOEmuSjOUY4TSTXC4DM3I9CeOXOtypKAfpqi8Fuv\n"
     ]
    },
    {
     "data": {
      "text/plain": [
       "{'Name': 'Lentils, raw',\n",
       " 'kJ': 1472.768,\n",
       " 'Proteins': 24.63,\n",
       " 'Sugars': 2.03,\n",
       " 'Sat_fats': 0.154,\n",
       " 'Fibers': 10.7,\n",
       " 'Sodium': 6.0,\n",
       " 'Lipids': 1.06,\n",
       " 'Fruit_Veg_content': 1}"
      ]
     },
     "execution_count": 6,
     "metadata": {},
     "output_type": "execute_result"
    }
   ],
   "source": [
    "scrap(query_ = 'lentils')"
   ]
  },
  {
   "cell_type": "code",
   "execution_count": null,
   "metadata": {},
   "outputs": [],
   "source": []
  },
  {
   "cell_type": "code",
   "execution_count": null,
   "metadata": {},
   "outputs": [],
   "source": []
  }
 ],
 "metadata": {
  "kernelspec": {
   "display_name": "Python 3",
   "language": "python",
   "name": "python3"
  },
  "language_info": {
   "codemirror_mode": {
    "name": "ipython",
    "version": 3
   },
   "file_extension": ".py",
   "mimetype": "text/x-python",
   "name": "python",
   "nbconvert_exporter": "python",
   "pygments_lexer": "ipython3",
   "version": "3.6.5"
  }
 },
 "nbformat": 4,
 "nbformat_minor": 2
}
