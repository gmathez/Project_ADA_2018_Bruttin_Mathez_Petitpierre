{
 "cells": [
  {
   "cell_type": "code",
   "execution_count": 1,
   "metadata": {},
   "outputs": [],
   "source": [
    "import pandas as pd\n",
    "\n",
    "DATA_FOLDER = './data/'"
   ]
  },
  {
   "cell_type": "code",
   "execution_count": 128,
   "metadata": {},
   "outputs": [],
   "source": [
    "# Load Data and Clean\n",
    "Data_raw = pd.read_csv(DATA_FOLDER + 'en.openfoodfacts.org.products.csv', delimiter = '\\t', low_memory = False)\n",
    "\n",
    "Data_raw.set_index('product_name', inplace = True)\n",
    "\n",
    "Data_raw.reset_index(inplace = True)\n",
    "\n",
    "Data_raw.set_index('code', inplace = True)\n",
    "\n",
    "#Drop all the row and column with all NaN\n",
    "Data_raw.dropna(axis = 0, how = 'all', inplace = True)\n",
    "Data_raw.dropna(axis = 1, how = 'all', inplace = True)\n",
    "Data_raw.drop_duplicates(inplace = True)"
   ]
  },
  {
   "cell_type": "code",
   "execution_count": 129,
   "metadata": {},
   "outputs": [],
   "source": [
    "# Collect DataBase with only the food components\n",
    "def Search2list(list_, string_):\n",
    "    list_return = []\n",
    "    for element in list_:\n",
    "        if string_ in element:\n",
    "            list_return.append(element)\n",
    "    return list_return\n",
    "column_food = Search2list(list(Data_raw.columns), '100g')\n",
    "Food_components = Data_raw[column_food].copy()\n",
    "Food_components.dropna(axis = 0, how = 'all', inplace = True)\n",
    "Food_components.dropna(axis = 1, how = 'all', inplace = True)"
   ]
  },
  {
   "cell_type": "code",
   "execution_count": 134,
   "metadata": {},
   "outputs": [
    {
     "data": {
      "text/plain": [
       "23.205419678448724"
      ]
     },
     "execution_count": 134,
     "metadata": {},
     "output_type": "execute_result"
    }
   ],
   "source": [
    "#Collect DataBase with already Nutriscore\n",
    "Nutri_Score_Data = Data_raw[['nutrition_grade_fr']].copy().dropna()\n",
    "len(Nutri_Score_Data) * 100/len(Food_components)"
   ]
  },
  {
   "cell_type": "code",
   "execution_count": 138,
   "metadata": {},
   "outputs": [],
   "source": [
    "Food_compon_Nutri = Nutri_Score_Data.join(Food_components)\n",
    "Food_compon_Nutri.dropna(axis = 1, how = 'all', inplace = True)"
   ]
  },
  {
   "cell_type": "code",
   "execution_count": 158,
   "metadata": {},
   "outputs": [
    {
     "data": {
      "text/plain": [
       "<matplotlib.axes._subplots.AxesSubplot at 0x261535f5f60>"
      ]
     },
     "execution_count": 158,
     "metadata": {},
     "output_type": "execute_result"
    },
    {
     "data": {
      "image/png": "[encoded data removed]",
      "text/plain": [
       "<Figure size 432x288 with 1 Axes>"
      ]
     },
     "metadata": {
      "needs_background": "light"
     },
     "output_type": "display_data"
    },
    {
     "data": {
      "image/png": "[encoded data removed]",
      "text/plain": [
       "<Figure size 432x288 with 1 Axes>"
      ]
     },
     "metadata": {
      "needs_background": "light"
     },
     "output_type": "display_data"
    }
   ],
   "source": [
    "Food_compon_Nutri.loc[Food_compon_Nutri.nutrition_grade_fr == 'a', ['nutrition-score-fr_100g']].plot.hist(bins = 100)\n",
    "Food_compon_Nutri.loc[Food_compon_Nutri.nutrition_grade_fr == 'e', ['nutrition-score-fr_100g']].plot.hist(bins = 100)"
   ]
  },
  {
   "cell_type": "code",
   "execution_count": 135,
   "metadata": {},
   "outputs": [
    {
     "data": {
      "text/plain": [
       "136569"
      ]
     },
     "execution_count": 135,
     "metadata": {},
     "output_type": "execute_result"
    }
   ],
   "source": [
    "len(Nutri_Score_Data)"
   ]
  },
  {
   "cell_type": "code",
   "execution_count": 131,
   "metadata": {},
   "outputs": [
    {
     "data": {
      "text/plain": [
       "681575"
      ]
     },
     "execution_count": 131,
     "metadata": {},
     "output_type": "execute_result"
    }
   ],
   "source": [
    "len(Data_raw)"
   ]
  },
  {
   "cell_type": "code",
   "execution_count": 132,
   "metadata": {},
   "outputs": [
    {
     "data": {
      "text/plain": [
       "588522"
      ]
     },
     "execution_count": 132,
     "metadata": {},
     "output_type": "execute_result"
    }
   ],
   "source": [
    "len(Food_components)"
   ]
  },
  {
   "cell_type": "code",
   "execution_count": 124,
   "metadata": {},
   "outputs": [
    {
     "data": {
      "text/plain": [
       "0.20036766324042476"
      ]
     },
     "execution_count": 124,
     "metadata": {},
     "output_type": "execute_result"
    }
   ],
   "source": [
    "len(Nutri_Score_Data)/len(Data_raw)"
   ]
  },
  {
   "cell_type": "code",
   "execution_count": 92,
   "metadata": {},
   "outputs": [
    {
     "data": {
      "text/plain": [
       "21058"
      ]
     },
     "execution_count": 92,
     "metadata": {},
     "output_type": "execute_result"
    }
   ],
   "source": [
    "Boissons = Data_raw.categories.str.contains('Boissons', case = False)\n",
    "Boissons.dropna(inplace = True)\n",
    "len(Boissons[Boissons])"
   ]
  },
  {
   "cell_type": "code",
   "execution_count": 84,
   "metadata": {},
   "outputs": [
    {
     "data": {
      "text/plain": [
       "69907"
      ]
     },
     "execution_count": 84,
     "metadata": {},
     "output_type": "execute_result"
    }
   ],
   "source": [
    "Boissons_1 = Data_raw.categories_tags.str.contains('beverages', case = False)\n",
    "Boissons_1.dropna(inplace = True)\n",
    "len(Boissons_1[Boissons_1])\n"
   ]
  },
  {
   "cell_type": "code",
   "execution_count": 77,
   "metadata": {},
   "outputs": [
    {
     "data": {
      "text/plain": [
       "69907"
      ]
     },
     "execution_count": 77,
     "metadata": {},
     "output_type": "execute_result"
    }
   ],
   "source": [
    "Boissons_2 = Data_raw.categories_en.str.contains('Beverages', case = False)\n",
    "Boissons_2.dropna(inplace = True)\n",
    "len(Boissons_2[Boissons_2])"
   ]
  },
  {
   "cell_type": "code",
   "execution_count": null,
   "metadata": {},
   "outputs": [],
   "source": []
  }
 ],
 "metadata": {
  "kernelspec": {
   "display_name": "Python [conda env:ada]",
   "language": "python",
   "name": "conda-env-ada-py"
  },
  "language_info": {
   "codemirror_mode": {
    "name": "ipython",
    "version": 3
   },
   "file_extension": ".py",
   "mimetype": "text/x-python",
   "name": "python",
   "nbconvert_exporter": "python",
   "pygments_lexer": "ipython3",
   "version": "3.6.7"
  }
 },
 "nbformat": 4,
 "nbformat_minor": 2
}
