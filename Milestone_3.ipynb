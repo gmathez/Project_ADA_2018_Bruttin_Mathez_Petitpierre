{
 "cells": [
  {
   "cell_type": "markdown",
   "metadata": {},
   "source": [
    "# Expanding Nutri-Score : take your menu to the next level\n",
    "\n",
    "## Overview of Milestone 3\n",
    "During this Milestone, we will present different things such as the cleaning part (part 2), and the 2 different algorithm that we create that we use in our app. You will see more informations about our app and our project in general <a href=\"https://nutriteam.github.io/Nutri_Score/home.html\" target= \"_blanck\">here</a>."
   ]
  },
  {
   "cell_type": "code",
   "execution_count": 1,
   "metadata": {},
   "outputs": [],
   "source": [
    "import pandas as pd\n",
    "from random import randint\n",
    "import numpy as np\n",
    "import re\n",
    "from collections import Counter\n",
    "import matplotlib.pyplot as plt\n",
    "import seaborn as sns\n",
    "sns.set_context('notebook')\n",
    "\n",
    "from computeNutriScore import computeNutriScore\n",
    "import df_nutri_create as nutri\n",
    "from Rec_nutri import Rec_text\n",
    "from email_nutri import Send_rec\n",
    "from product_better import find_healthier_product\n",
    "from Algo_main import algo\n",
    "\n",
    "# Data path\n",
    "DATA_FOLDER = './data/'"
   ]
  },
  {
   "cell_type": "markdown",
   "metadata": {},
   "source": [
    "## Cleaning - part 2\n",
    "With the database that we complete - see Milestone 2 - we have to cleaning and complete a little bit more. Frist of all, we see that some product name as extreme long name so it reduces the readibility for our app. With them, we will keep only the begining of the name before that a common string is detected ([même code...]). For our app again, we decide to add brands. Finally to improve the speed of our algorithm to detect healthier product than the one selected by the users, we compute the grade and the NutriScore for each product of the database."
   ]
  },
  {
   "cell_type": "markdown",
   "metadata": {},
   "source": [
    "```python\n",
    "def Compute_energy(fat, sugar, prot, fiber, margin):\n",
    "    ''' Computes energy with a margin in kJ. source : https://en.wikipedia.org/wiki/Food_energy '''\n",
    "\n",
    "    energy = (37 * fat + 17 * (sugar + prot) + 8 * fiber) - margin\n",
    "    if energy < 0:\n",
    "        return 0\n",
    "    return energy\n",
    "\n",
    "def set_coherent_values(df):\n",
    "    \"\"\" Compute coherent value for food values. Set incoherent values to NaN or assign a valid value. \"\"\"\n",
    "    for i in range(len(df)):\n",
    "        \n",
    "        # energy\n",
    "        value = df.iat[i, 2]\n",
    "        if  value < 0 or value > 4000:\n",
    "            df.iat[i, 2] = np.nan\n",
    "        \n",
    "        # other columns\n",
    "        for column in range(3, len(df.columns)):\n",
    "            value = df.iat[i, column]\n",
    "            if (value < 0) or (value > 100):\n",
    "                df.iat[i, column] = np.nan\n",
    "                \n",
    "        # Salt / Sodium (should be perfectly correlated)        \n",
    "        if np.isnan(df.iat[i, 6]):\n",
    "            if ~np.isnan(df.iat[i, 7]):\n",
    "                if ((df.iat[i, 7] * 2.5) <= 100):\n",
    "                    df.iat[i, 6] = df.iat[i, 7] * 2.5 # Salt = Sodium * 2.5\n",
    "                else:\n",
    "                    df.iat[i, 7] = np.nan # Sodium must be a error value\n",
    "        else:\n",
    "            if np.isnan(df.iat[i, 7]):\n",
    "                if ((df.iat[i, 6] / 2.5) <= 100):\n",
    "                    df.iat[i, 7] = df.iat[i, 6] / 2.5 # Sodium = Salt / 2.5\n",
    "                else:\n",
    "                    df.iat[i, 6] = np.nan # Salt must be a error value\n",
    "        \n",
    "        # Saturated Fat / Fats                   \n",
    "        if df.iat[i, 4] > df.iat[i, 3]: #saturated fat > fat\n",
    "            df.iat[i, 3] = df.iat[i, 4]\n",
    "        \n",
    "        # Fruit-Vegetables-Nut Real / Estimate\n",
    "        if ~np.isnan(df.iat[i, 8]) & np.isnan(df.iat[i, 9]):\n",
    "            df.iat[i, 9] = df.iat[i, 8] # Estimate fruits-vegetables-nuts = Real\n",
    "        if ~np.isnan(df.iat[i, 8]) & (df.iat[i, 9] > df.iat[i, 8]):\n",
    "            df.iat[i, 9] = df.iat[i, 8]\n",
    "        \n",
    "        # Energy\n",
    "        Fat, Sugar, Prot, Fiber = 0,0,0, 0\n",
    "        if ~np.isnan(df.iat[i, 3]):\n",
    "            Fat = df.iat[i, 3]\n",
    "                \n",
    "        if ~np.isnan(df.iat[i, 5]):\n",
    "            Sugar = df.iat[i, 5]\n",
    "                \n",
    "        if ~np.isnan(df.iat[i, 11]):\n",
    "            Prot = df.iat[i, 11]\n",
    "            \n",
    "        if ~np.isnan(df.iat[i, 10]):\n",
    "            Fiber = df.iat[i, 10]\n",
    "        \n",
    "        energy_comput = Compute_energy(Fat, Sugar, Prot, Fiber, 150)\n",
    "        \n",
    "        if np.isnan(df.iat[i, 2]) | (df.iat[i, 2] < energy_comput):\n",
    "            df.iat[i, 2] = energy_comput       \n",
    "            \n",
    "    return df\n",
    "\n",
    "# Load previous filling database\n",
    "data_food_final = pd.read_csv(DATA_FOLDER + 'data_food_final.csv', index_col  = [0])\n",
    "data_food_final = set_coherent_values(data_food_final)\n",
    "\n",
    "# Load raw Data and Clean\n",
    "data_raw = pd.read_csv(DATA_FOLDER + 'en.openfoodfacts.org.products.csv',\n",
    "                       delimiter = '\\t', low_memory = False)\n",
    "data_clean = data_raw.copy()\n",
    "\n",
    "# Drop duplicates according to the code\n",
    "data_clean.drop_duplicates(subset = 'code', keep = False, inplace = True)\n",
    "data_clean.set_index('code', inplace = True)\n",
    "\n",
    "\n",
    "\n",
    "# set value by default\n",
    "data_food_final['Predicted_NutriScore_grade'] = np.nan\n",
    "data_food_final['Predicted_NutriScore_score'] = np.nan\n",
    "data_food_final['Brands'] = ' '\n",
    "\n",
    "for index in range(len(data_food_final)):\n",
    "    if (index % 100==0):\n",
    "        print(str(index*100/len(data_food_final))[:6],'%')\n",
    "        \n",
    "    product = data_food_final.iloc[[index\n",
    "    \n",
    "    # Compute NutriScore\n",
    "    nutriscore, final_score = computeNutriScore(product)\n",
    "    \n",
    "    # Complete the dataset with the computed values\n",
    "    data_food_final.loc[product.index[0], 'Predicted_NutriScore_grade'] = nutriscore\n",
    "    data_food_final.loc[product.index[0], 'Predicted_NutriScore_score'] = final_score\n",
    "    \n",
    "    # Search for common feature for the product name with long name\n",
    "    regex_group = re.search('(.*)(?=même code)', product.product_name[0])\n",
    "    \n",
    "    if regex_group != None:\n",
    "        data_food_final.loc[product.index[0], 'product_name'] = regex_group.group(0)[:-1]\n",
    "    \n",
    "    # add brands                               \n",
    "    Brands = data_clean.at[product.index[0], 'brands']\n",
    "    if str(Brands) != 'nan':\n",
    "        data_food_final.loc[product.index[0], 'Brands'] = Brands\n",
    "    \n",
    "    \n",
    "\n",
    "data_food_final.to_csv('OpenFoodFacts_final.csv')\n",
    "```"
   ]
  },
  {
   "cell_type": "markdown",
   "metadata": {},
   "source": [
    "## General NutriScore Algorithm\n",
    "To give informations about a unique NutriScore for the users, we develop a general NutriScore algorithm. You can see the code for it inside `df_nutri_create.py ` file. \n",
    "\n",
    "These are the steps that inside our algorithm\n",
    "* We take the barcode and the quantity [in g/ml] for each product that the users eat and that inside the databse of Open Food Facts. If the users eats raw product, we take the name of the product and its quantity [in g/ml].\n",
    "* We create a new dataframe that contains all the product that are in the Open Food Facts database and add a column of quantity.\n",
    "* If the users eats raw product, we will search by using the API (see Milestone 2) for the product and add it to our new dataframe.\n",
    "* We put inside real fruits/vegetables/nuts the value that give our first NutriScore algorithm for the fruits contents of each product. It is an essential step because after some steps, we will call our original NutriScore algorithm. This one will search at the begining if a value is inside the real fruits/vegetables/nuts. \n",
    "* We multiply each column by the quantity of each product. \n",
    "* We separate beverages and non-beverages because it is not the same calculation for each case. We decide also to give a NutriScore grade for beverages and non-bevearages case to our user. It will improve by this way the informations. The users can know where he/she has to improve its diatry. \n",
    "* For beverages, we separate water to non-pure water. Pure water has automaticaly a A grade. The other beverages cannot have A as grade. \n",
    "* Du to our original NutriScore algorithm, we have to take care of some exeptions for the non-beverages. Some product must have 0 as protein. \n",
    "* We sum the dataframe and divide by the sum of quantity. We put the proportion of each column of this 'big product' for 100g. \n",
    "* We call our orginal NutriScore algorithm to compute the score and the grade.\n",
    "\n",
    "During the process, we exctract also important informations that we can use to give recomendations to our user. "
   ]
  },
  {
   "cell_type": "code",
   "execution_count": 2,
   "metadata": {},
   "outputs": [],
   "source": [
    "data_food_final = pd.read_csv(DATA_FOLDER + 'OpenFoodFacts_final.csv', index_col  = [0], low_memory = False)"
   ]
  },
  {
   "cell_type": "code",
   "execution_count": 4,
   "metadata": {},
   "outputs": [
    {
     "name": "stdout",
     "output_type": "stream",
     "text": [
      "The grade for your beverages is E for a score of 15\n",
      "The grade for your non-beverages is C for a score of 6\n",
      "You drink 13777.000 ml\n",
      "You drink 98.497 % of non pure-water (eg. sodas)\n",
      "You eat 2279.394 g of fiber\n",
      "You eat 24.250 % of fruits, vegetables and/or nuts\n",
      "You eat 467002.228 mg of sodium\n",
      "You eat 6978.558 g of protein\n",
      "Your energy amount is 1034954.708 kJ\n",
      "You eat 12683.502 g of sugar\n",
      "You eat 12741.956 g of fat\n"
     ]
    }
   ],
   "source": [
    "list_product = []\n",
    "number_of_product = 1000\n",
    "\n",
    "for index in range(number_of_product):\n",
    "    list_product.append((data_food_final.iloc[[randint(0, len(data_food_final))]].index[0], randint(1, 200)))\n",
    "\n",
    "Dict_ = nutri.main_nutri(list_product, data_food_final, [])\n",
    "\n",
    "if Dict_['Score_Beverages'] != None:\n",
    "    print('The grade for your beverages is {} for a score of {}'\\\n",
    "          .format(Dict_['NutriScore_Beverages'].upper(), Dict_['Score_Beverages']))\n",
    "    \n",
    "if Dict_['Score_Non_Beverages'] != None:\n",
    "    print('The grade for your non-beverages is {} for a score of {}'\\\n",
    "          .format(Dict_['NutriScore_Non_Beverages'].upper(), Dict_['Score_Non_Beverages']))\n",
    "    \n",
    "print('You drink {:.3f} ml'.format(Dict_['Beverages_quantites']))\n",
    "print('You drink {:.3f} % of non pure-water (eg. sodas)'.format(Dict_['Soda_ratio']))\n",
    "print('You eat {:.3f} g of fiber'.format(Dict_['Fiber']))\n",
    "print('You eat {:.3f} % of fruits, vegetables and/or nuts'.format(Dict_['Fruits']))\n",
    "print('You eat {:.3f} mg of sodium'.format(Dict_['Sodium']*1000))\n",
    "print('You eat {:.3f} g of protein'.format(Dict_['Protein']))\n",
    "print('Your energy amount is {:.3f} kJ'.format(Dict_['Energy']))\n",
    "print('You eat {:.3f} g of sugar'.format(Dict_['Sugar']))\n",
    "print('You eat {:.3f} g of fat'.format(Dict_['Fat']))"
   ]
  },
  {
   "cell_type": "markdown",
   "metadata": {},
   "source": [
    "To improve the readibility of our app, we will give feedback by email to our user. First of all, we check with the recomendation of the SSN (see Milestone 2) so we can give precise feedback. After that, we send by email the text create of the first function. "
   ]
  },
  {
   "cell_type": "code",
   "execution_count": null,
   "metadata": {},
   "outputs": [],
   "source": [
    "text = Rec_text(True, 22, 1.6, 1, 75, Dict_)\n",
    "Send_rec('EMAIL@EMAIL.EMAIL', text)"
   ]
  },
  {
   "cell_type": "markdown",
   "metadata": {},
   "source": [
    "## Healthier product\n",
    "To improve the diatry of our user, we will select based on each product selected by the users if one is better for him/her. You can see on `product_better.py` the algorithm. \n",
    "\n",
    "Our algorithm will take first of all the tag of the product that is more specifiq (i.e the less common in the database). We take all the product inside the database that have the same tag. Inside these 'same' product, we take a look for one that have a better score. "
   ]
  },
  {
   "cell_type": "code",
   "execution_count": 5,
   "metadata": {},
   "outputs": [],
   "source": [
    "def relevant_tag(dic, tags, threshold = 5):\n",
    "    \"\"\" Returns the least frequent tag from the list, who however has more than 'threshold' \n",
    "    correspondancies in the database \"\"\"\n",
    "    \n",
    "    # Init\n",
    "    dict_, sort = {}, []\n",
    "    \n",
    "    for tag in tags:\n",
    "        dict_[tag] = dic[tag]\n",
    "    \n",
    "    # Keep only tag which have more occurencies than threshold\n",
    "    dict_ = {k: v for k, v in dict_.items() if v >= threshold}\n",
    "    if len(dict_) > 0:\n",
    "        # Returns the most relevant tags\n",
    "        sort = sorted(dict_, key = dict_.get, reverse=False)\n",
    "        return sort\n",
    "    else :\n",
    "        return None"
   ]
  },
  {
   "cell_type": "code",
   "execution_count": 14,
   "metadata": {},
   "outputs": [],
   "source": [
    "def list_df_tags(data_food):\n",
    "    \"\"\" List of all the tags found in the dataset. Count the number of occurences and rank them\n",
    "        according to this number. \"\"\"\n",
    "    \n",
    "    # Split the tags found in the categories_tags columns\n",
    "    all_tags = [tags.split(',') for tags in list(data_food[['categories_tags']].dropna().categories_tags)]\n",
    "    \n",
    "    # Init\n",
    "    list_tags = []\n",
    "    \n",
    "    # List them\n",
    "    for tags in all_tags:\n",
    "        for tag in tags:\n",
    "            if tag != '':\n",
    "                list_tags.append(tag)\n",
    "    \n",
    "    # Return the list by number of occurences \n",
    "    return dict(Counter(list_tags).most_common())"
   ]
  },
  {
   "cell_type": "code",
   "execution_count": 15,
   "metadata": {},
   "outputs": [],
   "source": [
    "dic_tag = list_df_tags(data_food_final)"
   ]
  },
  {
   "cell_type": "code",
   "execution_count": 20,
   "metadata": {},
   "outputs": [
    {
     "name": "stdout",
     "output_type": "stream",
     "text": [
      "We suggest to you to replace the product \"Asperges vertes\" by this other product https://world.openfoodfacts.org/product/3292590830830 Asperges Vertes ( ) that has a better Nutri-Score.Your product has a grade of A and the one that we suggest to you has a grade of A.\n",
      "\n",
      "We suggest to you to replace the product \"Chewy White Choc Chip\" by this other product https://world.openfoodfacts.org/product/3229820785639 Barre de son d'avoine saveur amande Gayelord Hauser (Gayelord Hauser) that has a better Nutri-Score.Your product has a grade of C and the one that we suggest to you has a grade of A.\n",
      "\n",
      "We suggest to you to replace the product \"J'♥ le lait d'ici demi-écrémé stérilisé UHT\" by this other product https://world.openfoodfacts.org/product/20757595 Milbona Haltbare Fettarme Milch (Milbona) that has a better Nutri-Score.Your product has a grade of B and the one that we suggest to you has a grade of A.\n",
      "\n",
      "We suggest to you to replace the product \"Infusion tilleul citron\" by this other product https://world.openfoodfacts.org/product/3162050010211 Estragon de France (Sainte Lucie) that has a better Nutri-Score.Your product has a grade of B and the one that we suggest to you has a grade of A.\n",
      "\n",
      "We suggest to you to replace the product \"Crème liquide légère (12% Mat. Gr.)\" by this other product https://world.openfoodfacts.org/product/3155250310335 Épaisse 4% mat. gr. (Bridelight) that has a better Nutri-Score.Your product has a grade of C and the one that we suggest to you has a grade of B.\n",
      "\n"
     ]
    }
   ],
   "source": [
    "for product in list_product[:5]:\n",
    "    replaced, best_product, best_sc, best_code, old_sc, old_gr, new_gr =\\\n",
    "    find_healthier_product(product, data_food_final, dic_tag)\n",
    "    \n",
    "    if replaced:\n",
    "        print('''We suggest to you to replace the product \"{}\" by this other product https://world.openfoodfacts.org/product/{} {} that has a better Nutri-Score.Your product has a grade of {} and the one that we suggest to you has a grade of {}.\\n'''\\\n",
    "            .format(data_food_final.loc[product[0]][0], best_code, best_product[0] + ' (' + best_product[-1] + ')',\\\n",
    "            old_gr, new_gr))\n",
    "    else:\n",
    "        print('''Your product \"{}\" is the best in its category.'''.format(data_food_final.loc[product[0]][0]))"
   ]
  },
  {
   "cell_type": "markdown",
   "metadata": {},
   "source": [
    "We did the same thing as before for the recomendations."
   ]
  },
  {
   "cell_type": "code",
   "execution_count": 14,
   "metadata": {},
   "outputs": [],
   "source": [
    "text = Better_product_rec(list_product[:5], data_food_final)\n",
    "Send_rec('EMAIL@EMAIL.EMAIL', text)"
   ]
  },
  {
   "cell_type": "markdown",
   "metadata": {},
   "source": [
    "## Main structure\n",
    "We create a general function `algo` that take care of everything as explained above."
   ]
  },
  {
   "cell_type": "code",
   "execution_count": 5,
   "metadata": {},
   "outputs": [],
   "source": [
    "dict_product = {\n",
    "'Product' : list_product,\n",
    "'API' : [('Cookies', 40), ('Banana', 100)],\n",
    "}\n",
    "\n",
    "dict_settings = {\n",
    "'Rec' : True,\n",
    "'Day' : 1,\n",
    "'Name' : 'Bruttin',\n",
    "'Surname' : 'Valentin',\n",
    "'Email' : 'valentin.bruttin@epfl.ch',\n",
    "'Age' : 23,\n",
    "'Sex' : True,\n",
    "'Pal' : 1.6,\n",
    "'Weight' : 59,\n",
    "}\n",
    "\n",
    "text = algo(dict_product, dict_settings, data_food_final)"
   ]
  },
  {
   "cell_type": "markdown",
   "metadata": {},
   "source": [
    "## APP\n",
    "\n",
    "We create an App that is available for PC. You will see more information by reading our Data Story"
   ]
  },
  {
   "cell_type": "markdown",
   "metadata": {},
   "source": [
    "## Visualization\n",
    "Fisrt of all, we will see the proportion of each grades after compute the grade for every product."
   ]
  },
  {
   "cell_type": "code",
   "execution_count": 40,
   "metadata": {},
   "outputs": [
    {
     "data": {
      "image/png": "[encoded data removed]",
      "text/plain": [
       "<Figure size 432x288 with 1 Axes>"
      ]
     },
     "metadata": {
      "needs_background": "light"
     },
     "output_type": "display_data"
    }
   ],
   "source": [
    "nutri_grade = dict(Counter(list(data_food_final['Predicted_NutriScore_grade'])).most_common())\n",
    "label = ['A', 'B', 'C', 'D', 'E', 'Error']\n",
    "values = [nutri_grade['a'], nutri_grade['b'], nutri_grade['c'], nutri_grade['d'], nutri_grade['e'], nutri_grade['Error']]\n",
    "\n",
    "plt.bar(x=label, height=values);\n",
    "plt.title('NutriScore grades');\n",
    "plt.ylabel('Number of products');"
   ]
  },
  {
   "cell_type": "markdown",
   "metadata": {},
   "source": [
    "We see that the proportion of error is low. Indeed most of the columns are complete so we have less errors. The grades are almost a uniform distribution with a pick on D grade. "
   ]
  },
  {
   "cell_type": "markdown",
   "metadata": {},
   "source": [
    "To visualize healthier product, we will compute for each tag the minimum score and at the same time, the maximum one. With that, we can compute for each product the differences between its score and the minimum."
   ]
  },
  {
   "cell_type": "code",
   "execution_count": 18,
   "metadata": {
    "scrolled": true
   },
   "outputs": [],
   "source": [
    "list_tags = [key for key,value in dic_tag.items() if value >= 10]\n",
    "value_min = []\n",
    "value_max = []\n",
    "diff_score = []\n",
    "\n",
    "for tag in list_tags:\n",
    "    data_ = data_food_final[data_food_final.categories_tags.str.contains(tag, case = False) &\\\n",
    "                            (data_food_final['Predicted_NutriScore_grade'] != 'Error')]\n",
    "    min_ = min(data_['Predicted_NutriScore_score'].values)\n",
    "    max_ = max(data_['Predicted_NutriScore_score'].values)\n",
    "    value_min.append(min_)\n",
    "    value_max.append(max_)\n",
    "    \n",
    "    diff = [score - min_ for score in data_['Predicted_NutriScore_score'].values]\n",
    "    diff_score.extend(diff)"
   ]
  },
  {
   "cell_type": "code",
   "execution_count": 19,
   "metadata": {},
   "outputs": [
    {
     "data": {
      "image/png": "[encoded data removed]",
      "text/plain": [
       "<Figure size 720x360 with 1 Axes>"
      ]
     },
     "metadata": {
      "needs_background": "light"
     },
     "output_type": "display_data"
    }
   ],
   "source": [
    "plt.figure(figsize = (10, 5))\n",
    "plt.hist(value_min, bins=40, density= True);\n",
    "plt.title('Score of the healthier product by tag');\n",
    "plt.xlabel('Score');\n",
    "plt.ylabel('Proportion of tags');"
   ]
  },
  {
   "cell_type": "markdown",
   "metadata": {},
   "source": [
    "As we can observe, we have a large distribution of the minimum score. Most of healthier products are really healthy (negative score). But we can observe that some healthier product has a quite big score (>20). "
   ]
  },
  {
   "cell_type": "code",
   "execution_count": 20,
   "metadata": {
    "scrolled": true
   },
   "outputs": [
    {
     "data": {
      "image/png": "[encoded data removed]",
      "text/plain": [
       "<Figure size 720x360 with 1 Axes>"
      ]
     },
     "metadata": {
      "needs_background": "light"
     },
     "output_type": "display_data"
    }
   ],
   "source": [
    "plt.figure(figsize = (10, 5))\n",
    "plt.hist(diff_score, bins=50, density=True);\n",
    "plt.title('Difference of score between each product and its healthier product');\n",
    "plt.xlabel('Difference of score');\n",
    "plt.ylabel('Proportion of products');"
   ]
  },
  {
   "cell_type": "markdown",
   "metadata": {},
   "source": [
    "First of all, we see that 2% of the products are the better ones. Indeed, they are represented by the bins at 0. \n",
    "The biggest difference is 52. So we have also a large palette of differences but they are concise around 10. "
   ]
  },
  {
   "cell_type": "code",
   "execution_count": 22,
   "metadata": {},
   "outputs": [
    {
     "name": "stdout",
     "output_type": "stream",
     "text": [
      "Scatter between max and min score for each tag\n"
     ]
    },
    {
     "data": {
      "image/png": "[encoded data removed]",
      "text/plain": [
       "<Figure size 432x432 with 3 Axes>"
      ]
     },
     "metadata": {
      "needs_background": "light"
     },
     "output_type": "display_data"
    }
   ],
   "source": [
    "print('Scatter between max and min score for each tag')\n",
    "gr = (sns.jointplot(x=value_min, y=value_max, kind=\"hex\", color=\"r\").set_axis_labels(\"Minimum score\", \"Maximum score\"));"
   ]
  },
  {
   "cell_type": "code",
   "execution_count": 23,
   "metadata": {},
   "outputs": [
    {
     "data": {
      "text/plain": [
       "[('en:plant-based-foods-and-beverages', 51.0),\n",
       " ('en:plant-based-foods', 51.0),\n",
       " ('en:groceries', 50.0)]"
      ]
     },
     "execution_count": 23,
     "metadata": {},
     "output_type": "execute_result"
    }
   ],
   "source": [
    "diff = [value_max[index] - value_min[index] for index in range(len(value_max))]\n",
    "\n",
    "up_50 = [(tuple_[0], tuple_[1]) for tuple_ in list(zip(list_tags, diff)) if tuple_[1] >=50]\n",
    "up_50"
   ]
  },
  {
   "cell_type": "markdown",
   "metadata": {},
   "source": [
    "With this scatter plot, wich represent the distribution for each tag between its highest score and its lowest one. The line is expected because we cannot have a maximum less than the minimum. But we observe that we have a large distribution of maximum. We understand also base on this graph that the highest difference seen on the previous graph is the point on the upper left. We can detect that these big difference are for the tags, 'en:plant-based-foods-and-beverages' and 'en:plant-based-foods'. These tags are the most popular one and are express in the majority of the product. So it represent the biggest difference of score for the whole database.\n",
    "\n",
    "We see also with the dark points wich represent a larger number of points situated there, that most of the tags have a minimum score around 0 and an maximum around 10,15. So it is consitent with the previous graph."
   ]
  }
 ],
 "metadata": {
  "kernelspec": {
   "display_name": "Python 3",
   "language": "python",
   "name": "python3"
  },
  "language_info": {
   "codemirror_mode": {
    "name": "ipython",
    "version": 3
   },
   "file_extension": ".py",
   "mimetype": "text/x-python",
   "name": "python",
   "nbconvert_exporter": "python",
   "pygments_lexer": "ipython3",
   "version": "3.6.6"
  }
 },
 "nbformat": 4,
 "nbformat_minor": 2
}
