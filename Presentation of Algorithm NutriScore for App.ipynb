{
 "cells": [
  {
   "cell_type": "code",
   "execution_count": 26,
   "metadata": {},
   "outputs": [],
   "source": [
    "import pandas as pd\n",
    "from random import randint\n",
    "import numpy as np\n",
    "\n",
    "import df_nutri_create as nutri"
   ]
  },
  {
   "cell_type": "code",
   "execution_count": 27,
   "metadata": {},
   "outputs": [],
   "source": [
    "def Compute_energy(fat, sugar, prot, fiber, margin):\n",
    "    ''' Computes energy with a margin in kJ. source : https://en.wikipedia.org/wiki/Food_energy '''\n",
    "\n",
    "    energy = (37 * fat + 17 * (sugar + prot) + 8 * fiber) - margin\n",
    "    if energy < 0:\n",
    "        return 0\n",
    "    return energy\n",
    "\n",
    "def set_coherent_values(df):\n",
    "    \"\"\" Compute coherent value for food values. Set incoherent values to NaN or assign a valid value. \"\"\"\n",
    "    for i in range(len(df)):\n",
    "        \n",
    "        # energy\n",
    "        value = df.iat[i, 2]\n",
    "        if  value < 0 or value > 4000:\n",
    "            df.iat[i, 2] = np.nan\n",
    "        \n",
    "        # other columns\n",
    "        for column in range(3, len(df.columns)):\n",
    "            value = df.iat[i, column]\n",
    "            if (value < 0) or (value > 100):\n",
    "                df.iat[i, column] = np.nan\n",
    "                \n",
    "        # Salt / Sodium (should be perfectly correlated)        \n",
    "        if np.isnan(df.iat[i, 6]):\n",
    "            if ~np.isnan(df.iat[i, 7]):\n",
    "                if ((df.iat[i, 7] * 2.5) <= 100):\n",
    "                    df.iat[i, 6] = df.iat[i, 7] * 2.5 # Salt = Sodium * 2.5\n",
    "                else:\n",
    "                    df.iat[i, 7] = np.nan # Sodium must be a error value\n",
    "        else:\n",
    "            if np.isnan(df.iat[i, 7]):\n",
    "                if ((df.iat[i, 6] / 2.5) <= 100):\n",
    "                    df.iat[i, 7] = df.iat[i, 6] / 2.5 # Sodium = Salt / 2.5\n",
    "                else:\n",
    "                    df.iat[i, 6] = np.nan # Salt must be a error value\n",
    "        \n",
    "        # Saturated Fat / Fats                   \n",
    "        if df.iat[i, 4] > df.iat[i, 3]: #saturated fat > fat\n",
    "            df.iat[i, 3] = df.iat[i, 4]\n",
    "        \n",
    "        # Fruit-Vegetables-Nut Real / Estimate\n",
    "        if ~np.isnan(df.iat[i, 8]) & np.isnan(df.iat[i, 9]):\n",
    "            df.iat[i, 9] = df.iat[i, 8] # Estimate fruits-vegetables-nuts = Real\n",
    "        if ~np.isnan(df.iat[i, 8]) & (df.iat[i, 9] > df.iat[i, 8]):\n",
    "            df.iat[i, 9] = df.iat[i, 8]\n",
    "        \n",
    "        # Energy\n",
    "        Fat, Sugar, Prot, Fiber = 0,0,0, 0\n",
    "        if ~np.isnan(df.iat[i, 3]):\n",
    "            Fat = df.iat[i, 3]\n",
    "                \n",
    "        if ~np.isnan(df.iat[i, 5]):\n",
    "            Sugar = df.iat[i, 5]\n",
    "                \n",
    "        if ~np.isnan(df.iat[i, 11]):\n",
    "            Prot = df.iat[i, 11]\n",
    "            \n",
    "        if ~np.isnan(df.iat[i, 10]):\n",
    "            Fiber = df.iat[i, 10]\n",
    "        \n",
    "        energy_comput = Compute_energy(Fat, Sugar, Prot, Fiber, 150)\n",
    "        \n",
    "        if np.isnan(df.iat[i, 2]) | (df.iat[i, 2] < energy_comput):\n",
    "            df.iat[i, 2] = energy_comput       \n",
    "            \n",
    "    return df"
   ]
  },
  {
   "cell_type": "code",
   "execution_count": 28,
   "metadata": {},
   "outputs": [],
   "source": [
    "data_food_final = pd.read_csv('./data/data_food_final.csv', index_col  = [0])\n",
    "data_food_final = set_coherent_values(data_food_final)"
   ]
  },
  {
   "cell_type": "code",
   "execution_count": 31,
   "metadata": {},
   "outputs": [
    {
     "name": "stdout",
     "output_type": "stream",
     "text": [
      "The grade for your beverages is E for a score of 14\n",
      "The grade for your non-beverages is C for a score of 8\n",
      "You take 5 of water items\n"
     ]
    }
   ],
   "source": [
    "list_product = []\n",
    "number_of_product = 1000\n",
    "\n",
    "for index in range(number_of_product):\n",
    "    list_product.append((data_food_final.iloc[[randint(0, len(data_food_final))]].index[0], randint(1, 500)))\n",
    "\n",
    "sc_Beve, Nutri_Beve, sc_NBeve, Nutri_NBeve, df_water, df_product, df_beverages, df_non_beverages =\\\n",
    "    nutri.main_nutri(list_product, data_food_final)\n",
    "\n",
    "if sc_Beve != None:\n",
    "    print('The grade for your beverages is {} for a score of {}'.format(Nutri_Beve.upper(), sc_Beve))\n",
    "if sc_NBeve != None:\n",
    "    print('The grade for your non-beverages is {} for a score of {}'.format(Nutri_NBeve.upper(), sc_NBeve))\n",
    "print('You take {} of water items'.format(len(df_water)))\n"
   ]
  }
 ],
 "metadata": {
  "kernelspec": {
   "display_name": "Python [conda env:ada]",
   "language": "python",
   "name": "conda-env-ada-py"
  },
  "language_info": {
   "codemirror_mode": {
    "name": "ipython",
    "version": 3
   },
   "file_extension": ".py",
   "mimetype": "text/x-python",
   "name": "python",
   "nbconvert_exporter": "python",
   "pygments_lexer": "ipython3",
   "version": "3.6.7"
  }
 },
 "nbformat": 4,
 "nbformat_minor": 2
}
