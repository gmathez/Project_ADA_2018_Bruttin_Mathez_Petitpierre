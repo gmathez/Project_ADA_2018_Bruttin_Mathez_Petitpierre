{
 "cells": [
  {
   "cell_type": "code",
   "execution_count": 83,
   "metadata": {},
   "outputs": [],
   "source": [
    "import pandas as pd\n",
    "from random import randint\n",
    "import numpy as np\n",
    "from collections import Counter\n",
    "from computeNutriScore import computeNutriScore\n",
    "import df_nutri_create as nutri\n",
    "\n",
    "# Data path\n",
    "DATA_FOLDER = './data/'"
   ]
  },
  {
   "cell_type": "code",
   "execution_count": 2,
   "metadata": {},
   "outputs": [],
   "source": [
    "def Compute_energy(fat, sugar, prot, fiber, margin):\n",
    "    ''' Computes energy with a margin in kJ. source : https://en.wikipedia.org/wiki/Food_energy '''\n",
    "\n",
    "    energy = (37 * fat + 17 * (sugar + prot) + 8 * fiber) - margin\n",
    "    if energy < 0:\n",
    "        return 0\n",
    "    return energy\n",
    "\n",
    "def set_coherent_values(df):\n",
    "    \"\"\" Compute coherent value for food values. Set incoherent values to NaN or assign a valid value. \"\"\"\n",
    "    for i in range(len(df)):\n",
    "        \n",
    "        # energy\n",
    "        value = df.iat[i, 2]\n",
    "        if  value < 0 or value > 4000:\n",
    "            df.iat[i, 2] = np.nan\n",
    "        \n",
    "        # other columns\n",
    "        for column in range(3, len(df.columns)):\n",
    "            value = df.iat[i, column]\n",
    "            if (value < 0) or (value > 100):\n",
    "                df.iat[i, column] = np.nan\n",
    "                \n",
    "        # Salt / Sodium (should be perfectly correlated)        \n",
    "        if np.isnan(df.iat[i, 6]):\n",
    "            if ~np.isnan(df.iat[i, 7]):\n",
    "                if ((df.iat[i, 7] * 2.5) <= 100):\n",
    "                    df.iat[i, 6] = df.iat[i, 7] * 2.5 # Salt = Sodium * 2.5\n",
    "                else:\n",
    "                    df.iat[i, 7] = np.nan # Sodium must be a error value\n",
    "        else:\n",
    "            if np.isnan(df.iat[i, 7]):\n",
    "                if ((df.iat[i, 6] / 2.5) <= 100):\n",
    "                    df.iat[i, 7] = df.iat[i, 6] / 2.5 # Sodium = Salt / 2.5\n",
    "                else:\n",
    "                    df.iat[i, 6] = np.nan # Salt must be a error value\n",
    "        \n",
    "        # Saturated Fat / Fats                   \n",
    "        if df.iat[i, 4] > df.iat[i, 3]: #saturated fat > fat\n",
    "            df.iat[i, 3] = df.iat[i, 4]\n",
    "        \n",
    "        # Fruit-Vegetables-Nut Real / Estimate\n",
    "        if ~np.isnan(df.iat[i, 8]) & np.isnan(df.iat[i, 9]):\n",
    "            df.iat[i, 9] = df.iat[i, 8] # Estimate fruits-vegetables-nuts = Real\n",
    "        if ~np.isnan(df.iat[i, 8]) & (df.iat[i, 9] > df.iat[i, 8]):\n",
    "            df.iat[i, 9] = df.iat[i, 8]\n",
    "        \n",
    "        # Energy\n",
    "        Fat, Sugar, Prot, Fiber = 0,0,0, 0\n",
    "        if ~np.isnan(df.iat[i, 3]):\n",
    "            Fat = df.iat[i, 3]\n",
    "                \n",
    "        if ~np.isnan(df.iat[i, 5]):\n",
    "            Sugar = df.iat[i, 5]\n",
    "                \n",
    "        if ~np.isnan(df.iat[i, 11]):\n",
    "            Prot = df.iat[i, 11]\n",
    "            \n",
    "        if ~np.isnan(df.iat[i, 10]):\n",
    "            Fiber = df.iat[i, 10]\n",
    "        \n",
    "        energy_comput = Compute_energy(Fat, Sugar, Prot, Fiber, 150)\n",
    "        \n",
    "        if np.isnan(df.iat[i, 2]) | (df.iat[i, 2] < energy_comput):\n",
    "            df.iat[i, 2] = energy_comput       \n",
    "            \n",
    "    return df"
   ]
  },
  {
   "cell_type": "code",
   "execution_count": 3,
   "metadata": {},
   "outputs": [],
   "source": [
    "data_food_final = pd.read_csv('./data/data_food_final.csv', index_col  = [0])\n",
    "data_food_final = set_coherent_values(data_food_final)"
   ]
  },
  {
   "cell_type": "code",
   "execution_count": 4,
   "metadata": {},
   "outputs": [
    {
     "name": "stdout",
     "output_type": "stream",
     "text": [
      "The grade for your beverages is E for a score of 16\n",
      "The grade for your non-beverages is C for a score of 8\n",
      "You take 5 of water items\n"
     ]
    }
   ],
   "source": [
    "list_product = []\n",
    "number_of_product = 1000\n",
    "\n",
    "for index in range(number_of_product):\n",
    "    list_product.append((data_food_final.iloc[[randint(0, len(data_food_final))]].index[0], randint(1, 500)))\n",
    "\n",
    "sc_Beve, Nutri_Beve, sc_NBeve, Nutri_NBeve, df_water, df_product, df_beverages, df_non_beverages =\\\n",
    "    nutri.main_nutri(list_product, data_food_final)\n",
    "\n",
    "if sc_Beve != None:\n",
    "    print('The grade for your beverages is {} for a score of {}'.format(Nutri_Beve.upper(), sc_Beve))\n",
    "if sc_NBeve != None:\n",
    "    print('The grade for your non-beverages is {} for a score of {}'.format(Nutri_NBeve.upper(), sc_NBeve))\n",
    "print('You take {} of water items'.format(len(df_water)))\n"
   ]
  },
  {
   "cell_type": "code",
   "execution_count": 5,
   "metadata": {},
   "outputs": [],
   "source": [
    "def relevant_tag(dic, tags, threshold = 5):\n",
    "    \"\"\" Returns the least frequent tag from the list, who however has more than 'threshold' \n",
    "    correspondancies in the database \"\"\"\n",
    "    \n",
    "    # Init\n",
    "    dict_, sort = {}, []\n",
    "    \n",
    "    for tag in tags:\n",
    "        dict_[tag] = dic[tag]\n",
    "    \n",
    "    # Keep only tag which have more occurencies than threshold\n",
    "    dict_ = {k: v for k, v in dict_.items() if v >= threshold}\n",
    "    if len(dict_) > 0:\n",
    "        # Returns the most relevant tags\n",
    "        sort = sorted(dict_, key = dict_.get, reverse=False)\n",
    "        return sort\n",
    "    else :\n",
    "        return None"
   ]
  },
  {
   "cell_type": "code",
   "execution_count": 7,
   "metadata": {},
   "outputs": [],
   "source": [
    "sc_Beve, Nutri_Beve, sc_NBeve, Nutri_NBeve, df_water, df_product, df_beverages, df_non_beverages =\\\n",
    "nutri.main_nutri([list_product[0]], data_food_final)"
   ]
  },
  {
   "cell_type": "code",
   "execution_count": 8,
   "metadata": {},
   "outputs": [],
   "source": [
    "data_food_final = pd.read_csv(DATA_FOLDER + 'data_food_final.csv', index_col  = [0])"
   ]
  },
  {
   "cell_type": "code",
   "execution_count": 9,
   "metadata": {},
   "outputs": [],
   "source": [
    "def list_df_tags(data_food):\n",
    "    \"\"\" List of all the tags found in the dataset. Count the number of occurences and rank them\n",
    "        according to this number. \"\"\"\n",
    "    \n",
    "    # Split the tags found in the categories_tags columns\n",
    "    all_tags = [tags.split(',') for tags in list(data_food[['categories_tags']].dropna().categories_tags)]\n",
    "    \n",
    "    # Init\n",
    "    list_tags = []\n",
    "    \n",
    "    # List them\n",
    "    for tags in all_tags:\n",
    "        for tag in tags:\n",
    "            list_tags.append(tag)\n",
    "    \n",
    "    # Return the list by number of occurences \n",
    "    return dict(Counter(list_tags).most_common())"
   ]
  },
  {
   "cell_type": "code",
   "execution_count": 10,
   "metadata": {},
   "outputs": [],
   "source": [
    "dic_tag = list_df_tags(data_food_final)"
   ]
  },
  {
   "cell_type": "raw",
   "metadata": {},
   "source": [
    "# For each product, compute the nutri-score prediction using the algorithm\n",
    "for i in range(len(data_food_final)):\n",
    "\n",
    "    product = data_food_final.iloc[[i]]\n",
    "    nutriscore, final_score = computeNutriScore(product)\n",
    "    \n",
    "    # Complete the dataset with the computed values\n",
    "    data_food_final.loc[product.index[0], 'Predicted_NutriScore_grade'] = nutriscore\n",
    "    data_food_final.loc[product.index[0], 'Predicted_NutriScore_score'] = final_score\n",
    "    \n",
    "data_food_final.to_csv('data_food_final_score.csv')"
   ]
  },
  {
   "cell_type": "code",
   "execution_count": 94,
   "metadata": {},
   "outputs": [],
   "source": [
    "data_food_final = pd.read_csv(DATA_FOLDER + 'data_food_final_score.csv', index_col  = [0])"
   ]
  },
  {
   "cell_type": "code",
   "execution_count": 114,
   "metadata": {},
   "outputs": [],
   "source": [
    "def find_healthier_product(product_tuple, df, dic_tag):\n",
    "    ''' Replace the product by a product of the same category that has a better Nutriscore '''\n",
    "    # Initialize variables\n",
    "    best_tag = ''\n",
    "    best_sc, best_product, best_code = 0, {}, ''\n",
    "    \n",
    "    # A boolean to check if the product has been replaced\n",
    "    replaced = False\n",
    "    \n",
    "    # Find the product in the dataset\n",
    "    product = df.loc[product_tuple[0]]\n",
    "        \n",
    "    # Catch the best tag of the product\n",
    "    tags = product.categories_tags.split(',')\n",
    "    best_tags = relevant_tag(dic_tag, tags, 10)\n",
    "    if best_tags != None:\n",
    "        best_tag = best_tags[0]\n",
    "    \n",
    "    # Take the products which are of the same kind as the product we want to fill\n",
    "    df_similar = df[df.categories_tags.str.contains(best_tag, case = False)]\n",
    "    \n",
    "    # Check the score & initialize params\n",
    "    best_code = product_tuple[0]\n",
    "    best_product = product\n",
    "    best_sc = product['Predicted_NutriScore_score']\n",
    "    \n",
    "    for ind, row in df_similar.iterrows():\n",
    "        \n",
    "        # Check if one of the similar product is actually better that our product\n",
    "        score = df_similar.loc[ind]['Predicted_NutriScore_score']\n",
    "        \n",
    "        if score < best_sc:\n",
    "            best_sc = score\n",
    "            best_product = df_similar.loc[ind]\n",
    "            best_code = ind \n",
    "            replaced = True\n",
    "       \n",
    "    return replaced, best_product, best_sc, best_code"
   ]
  },
  {
   "cell_type": "code",
   "execution_count": 116,
   "metadata": {},
   "outputs": [
    {
     "name": "stdout",
     "output_type": "stream",
     "text": [
      "Nous vous conseillons de remplacer le produit appelé \"Ice Tea citron (12 litres)\" par cet autre produit, qui obtient le meilleur Nutriscore de cette catégorie : https://world.openfoodfacts.org/product/0020601407893\n",
      "Nous vous conseillons de remplacer le produit appelé \"Aloe water\" par cet autre produit, qui obtient le meilleur Nutriscore de cette catégorie : https://world.openfoodfacts.org/product/7691100952233\n",
      "Nous vous conseillons de remplacer le produit appelé \"Bonne Purée\" par cet autre produit, qui obtient le meilleur Nutriscore de cette catégorie : https://world.openfoodfacts.org/product/3250390000280\n",
      "Nous vous conseillons de remplacer le produit appelé \"Euro mix - melange euri (quick frozen)\" par cet autre produit, qui obtient le meilleur Nutriscore de cette catégorie : https://world.openfoodfacts.org/product/3256222975672\n",
      "Nous vous conseillons de remplacer le produit appelé \"Aceto Balsamico Di Modena\" par cet autre produit, qui obtient le meilleur Nutriscore de cette catégorie : https://world.openfoodfacts.org/product/3256220764261\n"
     ]
    }
   ],
   "source": [
    "ideal_dict = {}\n",
    "\n",
    "for index, product in enumerate(list_product[:5]):\n",
    "    replaced, ideal_product, ideal_nutriscore, ideal_code = find_healthier_product(product, data_food_final, dic_tag)\n",
    "    ideal_dict[product[0]] = (ideal_code, ideal_product, ideal_nutriscore)\n",
    "    if replaced:\n",
    "        print('Nous vous conseillons de remplacer le produit appelé \"' + str(data_food_final.loc[product[0]][0])\n",
    "              + '\" par cet autre produit, qui obtient le meilleur Nutriscore de cette catégorie : '\n",
    "              + 'https://world.openfoodfacts.org/product/' + ideal_code)\n",
    "    else:\n",
    "        print('Le produit appelé \"' + str(data_food_final.loc[product[0]][0])\n",
    "              + '\" est le meilleur de sa catégorie.')"
   ]
  },
  {
   "cell_type": "code",
   "execution_count": null,
   "metadata": {},
   "outputs": [],
   "source": []
  }
 ],
 "metadata": {
  "kernelspec": {
   "display_name": "Python 3",
   "language": "python",
   "name": "python3"
  },
  "language_info": {
   "codemirror_mode": {
    "name": "ipython",
    "version": 3
   },
   "file_extension": ".py",
   "mimetype": "text/x-python",
   "name": "python",
   "nbconvert_exporter": "python",
   "pygments_lexer": "ipython3",
   "version": "3.6.5"
  }
 },
 "nbformat": 4,
 "nbformat_minor": 2
}
